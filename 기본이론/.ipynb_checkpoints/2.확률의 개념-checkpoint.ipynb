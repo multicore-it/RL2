{
 "cells": [
  {
   "cell_type": "code",
   "execution_count": 1,
   "id": "27d709c6-e324-45cb-ae45-8a0d39204da5",
   "metadata": {},
   "outputs": [
    {
     "name": "stdout",
     "output_type": "stream",
     "text": [
      "주사위 결과: [2, 2, 5, 5, 4, 3]\n"
     ]
    }
   ],
   "source": [
    "import random\n",
    "from collections import Counter\n",
    "\n",
    "\"\"\" n번 주사위를 던지고 결과를 반환 \"\"\"\n",
    "def roll_dice(n):\n",
    "    result = []\n",
    "    for i in range(n):\n",
    "        result.append(random.randint(1, 6))    \n",
    "    return result\n",
    "    \n",
    "# 주사위를 6번 던지기\n",
    "dice_results = roll_dice(6)\n",
    "print(\"주사위 결과:\", dice_results)"
   ]
  },
  {
   "cell_type": "code",
   "execution_count": 2,
   "id": "d8ffd47c-6f54-407c-afa1-dac42fc09575",
   "metadata": {},
   "outputs": [
    {
     "name": "stdout",
     "output_type": "stream",
     "text": [
      "각 숫자가 나온 확률:\n",
      "1: 0.166\n",
      "2: 0.168\n",
      "3: 0.169\n",
      "4: 0.165\n",
      "5: 0.166\n",
      "6: 0.166\n"
     ]
    }
   ],
   "source": [
    "\"\"\" 주사위 결과에서 각 숫자의 출현 횟수를 계산 \"\"\"\n",
    "def count_occurrences(results):\n",
    "    #객체에서 요소의 개수를 자동으로 세어주는 기능\n",
    "    return Counter(results)\n",
    "\n",
    "\"\"\" 각 숫자가 나올 확률을 계산하여 반환 \"\"\"\n",
    "def calculate_probabilities(counts, n):\n",
    "    probabilities = {}\n",
    "    for num in range(1, 7):\n",
    "        probabilities[num] = counts[num] / n\n",
    "    return probabilities\n",
    "    \n",
    "# 100,000번 주사위를 던지고 확률 계산\n",
    "num_trials = 100000\n",
    "dice_results = roll_dice(num_trials)\n",
    "counts = count_occurrences(dice_results)\n",
    "probabilities = calculate_probabilities(counts, num_trials)\n",
    "\n",
    "print(\"각 숫자가 나온 확률:\")\n",
    "for number, prob in probabilities.items():\n",
    "    print(f\"{number}: {prob:.3f}\")"
   ]
  },
  {
   "cell_type": "code",
   "execution_count": null,
   "id": "230e8807-6dcb-490c-84da-49ada1dce6a4",
   "metadata": {},
   "outputs": [],
   "source": []
  }
 ],
 "metadata": {
  "kernelspec": {
   "display_name": "Python 3 (ipykernel)",
   "language": "python",
   "name": "python3"
  },
  "language_info": {
   "codemirror_mode": {
    "name": "ipython",
    "version": 3
   },
   "file_extension": ".py",
   "mimetype": "text/x-python",
   "name": "python",
   "nbconvert_exporter": "python",
   "pygments_lexer": "ipython3",
   "version": "3.12.8"
  }
 },
 "nbformat": 4,
 "nbformat_minor": 5
}
