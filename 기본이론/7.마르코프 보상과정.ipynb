{
 "cells": [
  {
   "cell_type": "code",
   "execution_count": 2,
   "id": "3a2b4aee-c1a4-49e7-a527-f7da7ef4eae7",
   "metadata": {},
   "outputs": [
    {
     "name": "stdout",
     "output_type": "stream",
     "text": [
      "경로 1 반환값: 1.7500\n",
      "경로 2 반환값: 1.2500\n",
      "경로 3 반환값: 3.2500\n"
     ]
    }
   ],
   "source": [
    "import numpy as np\n",
    "\n",
    "#(1) 상태와 보상 구조 정의\n",
    "states = [\"S\", \"R1\", \"R2\", \"R3\", \"F\"]\n",
    "rewards = {\n",
    "    (\"S\", \"R1\"): 0.5, (\"S\", \"R2\"): 1.5,\n",
    "    (\"R1\", \"R3\"): 1.0, (\"R1\", \"R2\"): 1.5,\n",
    "    (\"R2\", \"R3\"): 2.0, (\"R3\", \"F\"): 3.0\n",
    "}\n",
    "\n",
    "#(2) 감가율(Discount Factor) 설정\n",
    "gamma = 1 / 2\n",
    "\n",
    "#(3) 가능한 경로 정의\n",
    "paths = [\n",
    "    [\"S\", \"R1\", \"R3\", \"F\"],  # 경로 ①\n",
    "    [\"S\", \"R1\", \"R2\", \"F\"],  # 경로 ②\n",
    "    [\"S\", \"R2\", \"R3\", \"F\"]   # 경로 ③\n",
    "]\n",
    "\n",
    "#(4) 반환값 계산 함수 정의\n",
    "def calculate_return(path):\n",
    "    total_return = 0\n",
    "    discount_factor = 1  # 초기 감가율\n",
    "\n",
    "    for i in range(len(path) - 1):\n",
    "        state, next_state = path[i], path[i + 1]\n",
    "        reward = rewards.get((state, next_state), 0)\n",
    "        total_return += discount_factor * reward\n",
    "        discount_factor *= gamma  # 감가율 적용\n",
    "\n",
    "    return total_return\n",
    "\n",
    "#(5) 모든 경로에 대해 반환값 계산 및 출력\n",
    "returns = {i+1: calculate_return(path) for i, path in enumerate(paths)}\n",
    "for path_id, value in returns.items():\n",
    "    print(f\"경로 {path_id} 반환값: {value:.4f}\")"
   ]
  },
  {
   "cell_type": "code",
   "execution_count": null,
   "id": "08079b03-ee1b-45ec-9be2-c39f666df148",
   "metadata": {},
   "outputs": [],
   "source": []
  }
 ],
 "metadata": {
  "kernelspec": {
   "display_name": "Python 3 (ipykernel)",
   "language": "python",
   "name": "python3"
  },
  "language_info": {
   "codemirror_mode": {
    "name": "ipython",
    "version": 3
   },
   "file_extension": ".py",
   "mimetype": "text/x-python",
   "name": "python",
   "nbconvert_exporter": "python",
   "pygments_lexer": "ipython3",
   "version": "3.10.3"
  }
 },
 "nbformat": 4,
 "nbformat_minor": 5
}
