{
 "cells": [
  {
   "cell_type": "code",
   "execution_count": 3,
   "id": "d9ab5ce4-189f-4324-99d2-4ed18540d698",
   "metadata": {},
   "outputs": [
    {
     "name": "stdout",
     "output_type": "stream",
     "text": [
      "상태 전이 결과: ['파랑', '빨강', '빨강', '파랑', '파랑', '파랑', '파랑', '파랑', '노랑', '빨강', '노랑']\n"
     ]
    }
   ],
   "source": [
    "import random\n",
    "\n",
    "#(1) 마르코프 속성 시뮬레이션 함수 정의\n",
    "def markov_prop_simulation(steps):\n",
    "\n",
    "    #(2) 가능한 상태 정의\n",
    "    states = ['빨강', '파랑', '노랑']\n",
    "\n",
    "    #(3) 전이 확률 행렬 정의\n",
    "    transition_matrix = {\n",
    "        '빨강': {'빨강': 0.5, '파랑': 0.3, '노랑': 0.2},\n",
    "        '파랑': {'빨강': 0.2, '파랑': 0.6, '노랑': 0.2},\n",
    "        '노랑': {'빨강': 0.3, '파랑': 0.3, '노랑': 0.4}\n",
    "    }\n",
    "\n",
    "    #(4) 초기 상태의 무작위 선택\n",
    "    current_state = random.choice(states)\n",
    "    sequence = [current_state]\n",
    "\n",
    "    #(5) 상태전이 반복 수행\n",
    "    for _ in range(steps):\n",
    "        next_state = random.choices(\n",
    "            population=list(transition_matrix[current_state].keys()),\n",
    "            weights=list(transition_matrix[current_state].values())\n",
    "        )[0]\n",
    "        sequence.append(next_state)\n",
    "        current_state = next_state\n",
    "    \n",
    "    return sequence\n",
    "\n",
    "# (6) 상태 전이 결과 출력\n",
    "simulation_result = markov_prop_simulation(10)\n",
    "print(\"상태 전이 결과:\", simulation_result)"
   ]
  },
  {
   "cell_type": "code",
   "execution_count": null,
   "id": "f4fa6312-d12b-4047-9cd3-44e468b8552c",
   "metadata": {},
   "outputs": [],
   "source": []
  }
 ],
 "metadata": {
  "kernelspec": {
   "display_name": "Python 3 (ipykernel)",
   "language": "python",
   "name": "python3"
  },
  "language_info": {
   "codemirror_mode": {
    "name": "ipython",
    "version": 3
   },
   "file_extension": ".py",
   "mimetype": "text/x-python",
   "name": "python",
   "nbconvert_exporter": "python",
   "pygments_lexer": "ipython3",
   "version": "3.10.3"
  }
 },
 "nbformat": 4,
 "nbformat_minor": 5
}
