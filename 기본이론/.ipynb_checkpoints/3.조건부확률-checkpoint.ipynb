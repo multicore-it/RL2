{
 "cells": [
  {
   "cell_type": "code",
   "execution_count": 1,
   "id": "76e45acd-8c7b-4d8d-9405-912c1b5c7ba9",
   "metadata": {},
   "outputs": [
    {
     "name": "stdout",
     "output_type": "stream",
     "text": [
      "P(노트북 | 남학생) = 0.40\n",
      "P(노트북 | 여학생) = 0.60\n"
     ]
    }
   ],
   "source": [
    "# 조건부 확률 계산 함수\n",
    "def conditional_probability(event_count, condition_count):\n",
    "    \"\"\" 주어진 조건에서 특정 사건이 발생할 확률을 계산 \"\"\"\n",
    "    if condition_count == 0:\n",
    "        return 0  # 0으로 나누는 오류 방지\n",
    "    return event_count / condition_count\n",
    "\n",
    "# 데이터 정의\n",
    "num_students = 10\n",
    "num_male = 5\n",
    "num_female = 5\n",
    "num_male_with_laptop = 2\n",
    "num_female_with_laptop = 3\n",
    "\n",
    "# 확률 계산\n",
    "p_laptop_given_male = conditional_probability(num_male_with_laptop, num_male)\n",
    "p_laptop_given_female = conditional_probability(num_female_with_laptop, num_female)\n",
    "\n",
    "# 결과 출력\n",
    "print(f\"P(노트북 | 남학생) = {p_laptop_given_male:.2f}\")\n",
    "print(f\"P(노트북 | 여학생) = {p_laptop_given_female:.2f}\")"
   ]
  },
  {
   "cell_type": "code",
   "execution_count": null,
   "id": "49ec7506-fcf9-4dbd-a60f-e8c9906dfcc5",
   "metadata": {},
   "outputs": [],
   "source": []
  }
 ],
 "metadata": {
  "kernelspec": {
   "display_name": "Python 3 (ipykernel)",
   "language": "python",
   "name": "python3"
  },
  "language_info": {
   "codemirror_mode": {
    "name": "ipython",
    "version": 3
   },
   "file_extension": ".py",
   "mimetype": "text/x-python",
   "name": "python",
   "nbconvert_exporter": "python",
   "pygments_lexer": "ipython3",
   "version": "3.10.3"
  }
 },
 "nbformat": 4,
 "nbformat_minor": 5
}
