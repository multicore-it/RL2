{
 "cells": [
  {
   "cell_type": "code",
   "execution_count": null,
   "id": "944843bb-0f48-49c0-a767-6a3d7864b685",
   "metadata": {},
   "outputs": [],
   "source": [
    "import numpy as np\n",
    "import matplotlib.pyplot as plt\n",
    "\n",
    "#(1) 브라운 운동 함수 정의\n",
    "def brownian_motion(n, delta=1):\n",
    "    steps = np.random.normal(loc=0, scale=delta, size=n)\n",
    "    path = np.cumsum(steps)\n",
    "    return path\n",
    "\n",
    "#(2) 시뮬레이션 실행\n",
    "n_steps = 1000\n",
    "motion = brownian_motion(n_steps)\n",
    "\n",
    "#(3) 결과 시각화\n",
    "plt.plot(motion)\n",
    "plt.xlabel(\"Time\") \n",
    "plt.ylabel(\"Position\")\n",
    "plt.title(\"Brownian Motion Simulation\")\n",
    "plt.show()"
   ]
  },
  {
   "cell_type": "code",
   "execution_count": null,
   "id": "af728c6d-6c79-4c33-9889-172c89364141",
   "metadata": {},
   "outputs": [],
   "source": [
    "import numpy as np\n",
    "import matplotlib.pyplot as plt\n",
    "np_rand_norm = np.random.normal(loc=0, scale=1, size=1000)\n",
    "#np.random.normal() 함수는 정규분포(Normal Distribution) 를 따르는 난수들을 생성합니다.\n",
    "#loc=0: 생성할 정규분포의 평균(μ) 을 0으로 설정합니다.\n",
    "#scale=1: 정규분포의 표준편차(σ) 를 1로 설정합니다.\n",
    "#size=1000: 총 1000개의 난수를 생성합니다."
   ]
  },
  {
   "cell_type": "code",
   "execution_count": null,
   "id": "21a1082f-dd85-43b1-9524-cd9734f4b317",
   "metadata": {},
   "outputs": [],
   "source": [
    "plt.plot(np_rand_norm)\n",
    "plt.xlabel(\"Time\") \n",
    "plt.ylabel(\"Position\")\n",
    "plt.title(\"Brownian Motion Simulation\")\n",
    "plt.show()"
   ]
  }
 ],
 "metadata": {
  "kernelspec": {
   "display_name": "Python 3 (ipykernel)",
   "language": "python",
   "name": "python3"
  },
  "language_info": {
   "codemirror_mode": {
    "name": "ipython",
    "version": 3
   },
   "file_extension": ".py",
   "mimetype": "text/x-python",
   "name": "python",
   "nbconvert_exporter": "python",
   "pygments_lexer": "ipython3",
   "version": "3.10.3"
  }
 },
 "nbformat": 4,
 "nbformat_minor": 5
}
