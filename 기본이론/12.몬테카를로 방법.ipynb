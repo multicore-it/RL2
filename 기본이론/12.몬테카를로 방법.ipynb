{
 "cells": [
  {
   "cell_type": "code",
   "execution_count": 1,
   "id": "846aedd6-d0c7-43b2-bbba-bc0e35dbc18e",
   "metadata": {},
   "outputs": [
    {
     "name": "stdout",
     "output_type": "stream",
     "text": [
      "추정한 원의 면적 (≈ π): 3.1328\n",
      "실제 π 값: 3.141592653589793\n"
     ]
    }
   ],
   "source": [
    "import random\n",
    "import math\n",
    "\n",
    "# (1) 총 던질 공의 개수\n",
    "num_points = 10000\n",
    "inside_circle = 0\n",
    "\n",
    "for _ in range(num_points):\n",
    "    # (2) -1에서 1 사이의 무작위 x, y 좌표 생성\n",
    "    x = random.uniform(-1, 1)\n",
    "    y = random.uniform(-1, 1)\n",
    "\n",
    "    # (3) 원 안에 들어갔는지 확인 (x² + y² <= 1이면 원 안)\n",
    "    if x**2 + y**2 <= 1:\n",
    "        inside_circle += 1\n",
    "\n",
    "# (4) 원의 면적 추정: 정사각형 면적(4) × 비율\n",
    "estimated_pi = 4 * inside_circle / num_points\n",
    "\n",
    "print(f\"추정한 원의 면적 (≈ π): {estimated_pi}\")\n",
    "print(f\"실제 π 값: {math.pi}\")"
   ]
  },
  {
   "cell_type": "code",
   "execution_count": null,
   "id": "e20f5da3-7835-4896-8468-0f27758471e3",
   "metadata": {},
   "outputs": [],
   "source": []
  }
 ],
 "metadata": {
  "kernelspec": {
   "display_name": "Python 3 (ipykernel)",
   "language": "python",
   "name": "python3"
  },
  "language_info": {
   "codemirror_mode": {
    "name": "ipython",
    "version": 3
   },
   "file_extension": ".py",
   "mimetype": "text/x-python",
   "name": "python",
   "nbconvert_exporter": "python",
   "pygments_lexer": "ipython3",
   "version": "3.10.3"
  }
 },
 "nbformat": 4,
 "nbformat_minor": 5
}
