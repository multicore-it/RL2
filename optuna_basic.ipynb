{
 "cells": [
  {
   "cell_type": "code",
   "execution_count": 3,
   "id": "6a2383eb-f38d-4408-a37c-3b1097433a14",
   "metadata": {},
   "outputs": [
    {
     "name": "stderr",
     "output_type": "stream",
     "text": [
      "[I 2025-04-03 06:16:48,257] A new study created in memory with name: no-name-ce2b4d2a-7429-48b2-b17c-f16ee1bd1697\n",
      "[I 2025-04-03 06:16:48,259] Trial 0 finished with value: 17.538173482343424 and parameters: {'x': -0.5409283362337938}. Best is trial 0 with value: 17.538173482343424.\n",
      "[I 2025-04-03 06:16:48,259] Trial 1 finished with value: 89.6601058574951 and parameters: {'x': -6.2010926447620935}. Best is trial 0 with value: 17.538173482343424.\n",
      "[I 2025-04-03 06:16:48,261] Trial 2 finished with value: 26.464929788198166 and parameters: {'x': -1.633025986134566}. Best is trial 0 with value: 17.538173482343424.\n",
      "[I 2025-04-03 06:16:48,261] Trial 3 finished with value: 7.905231503857463 and parameters: {'x': 1.2955260330948253}. Best is trial 3 with value: 7.905231503857463.\n",
      "[I 2025-04-03 06:16:48,262] Trial 4 finished with value: 34.13157099548412 and parameters: {'x': 8.397367042872304}. Best is trial 3 with value: 7.905231503857463.\n",
      "[I 2025-04-03 06:16:48,262] Trial 5 finished with value: 12.948292963553229 and parameters: {'x': 5.819271708004255}. Best is trial 3 with value: 7.905231503857463.\n",
      "[I 2025-04-03 06:16:48,263] Trial 6 finished with value: 96.10467450554546 and parameters: {'x': -6.544876872204557}. Best is trial 3 with value: 7.905231503857463.\n",
      "[I 2025-04-03 06:16:48,264] Trial 7 finished with value: 9.591172976612091 and parameters: {'x': 0.8572977396259436}. Best is trial 3 with value: 7.905231503857463.\n",
      "[I 2025-04-03 06:16:48,265] Trial 8 finished with value: 31.694059718037973 and parameters: {'x': 8.166629434944795}. Best is trial 3 with value: 7.905231503857463.\n",
      "[I 2025-04-03 06:16:48,266] Trial 9 finished with value: 57.331033092628815 and parameters: {'x': -4.234019152077828}. Best is trial 3 with value: 7.905231503857463.\n",
      "[I 2025-04-03 06:16:48,272] Trial 10 finished with value: 172.7215743861444 and parameters: {'x': -9.950736441845475}. Best is trial 3 with value: 7.905231503857463.\n",
      "[I 2025-04-03 06:16:48,275] Trial 11 finished with value: 5.559428207585707 and parameters: {'x': 3.7479493349055852}. Best is trial 11 with value: 5.559428207585707.\n",
      "[I 2025-04-03 06:16:48,278] Trial 12 finished with value: 6.206659196225814 and parameters: {'x': 4.09848040320518}. Best is trial 11 with value: 5.559428207585707.\n",
      "[I 2025-04-03 06:16:48,283] Trial 13 finished with value: 5.589748710923246 and parameters: {'x': 3.7679509821096953}. Best is trial 11 with value: 5.559428207585707.\n",
      "[I 2025-04-03 06:16:48,287] Trial 14 finished with value: 6.6335854817662305 and parameters: {'x': 4.278117945170253}. Best is trial 11 with value: 5.559428207585707.\n",
      "[I 2025-04-03 06:16:48,292] Trial 15 finished with value: 5.002727101681786 and parameters: {'x': 3.052221659125173}. Best is trial 15 with value: 5.002727101681786.\n",
      "[I 2025-04-03 06:16:48,295] Trial 16 finished with value: 52.24925579012346 and parameters: {'x': 9.873809408917552}. Best is trial 15 with value: 5.002727101681786.\n",
      "[I 2025-04-03 06:16:48,299] Trial 17 finished with value: 5.238727764949567 and parameters: {'x': 2.5114022462704453}. Best is trial 15 with value: 5.002727101681786.\n",
      "[I 2025-04-03 06:16:48,303] Trial 18 finished with value: 35.36806097627775 and parameters: {'x': -2.510722364289254}. Best is trial 15 with value: 5.002727101681786.\n",
      "[I 2025-04-03 06:16:48,307] Trial 19 finished with value: 5.703610943462919 and parameters: {'x': 2.1611847977874277}. Best is trial 15 with value: 5.002727101681786.\n",
      "[I 2025-04-03 06:16:48,310] Trial 20 finished with value: 18.058209765053547 and parameters: {'x': 6.613614501444993}. Best is trial 15 with value: 5.002727101681786.\n",
      "[I 2025-04-03 06:16:48,314] Trial 21 finished with value: 5.211919422051212 and parameters: {'x': 2.5396529330481057}. Best is trial 15 with value: 5.002727101681786.\n",
      "[I 2025-04-03 06:16:48,317] Trial 22 finished with value: 5.101388004671208 and parameters: {'x': 2.6815851688893746}. Best is trial 15 with value: 5.002727101681786.\n",
      "[I 2025-04-03 06:16:48,321] Trial 23 finished with value: 14.620277796721627 and parameters: {'x': -0.10165726615975879}. Best is trial 15 with value: 5.002727101681786.\n",
      "[I 2025-04-03 06:16:48,325] Trial 24 finished with value: 16.68325923489953 and parameters: {'x': 6.418078295606982}. Best is trial 15 with value: 5.002727101681786.\n",
      "[I 2025-04-03 06:16:48,329] Trial 25 finished with value: 5.284211281718353 and parameters: {'x': 2.466885301536008}. Best is trial 15 with value: 5.002727101681786.\n",
      "[I 2025-04-03 06:16:48,333] Trial 26 finished with value: 10.172211708479418 and parameters: {'x': 5.2742497023149015}. Best is trial 15 with value: 5.002727101681786.\n",
      "[I 2025-04-03 06:16:48,338] Trial 27 finished with value: 31.049257132487295 and parameters: {'x': -2.103847287339943}. Best is trial 15 with value: 5.002727101681786.\n",
      "[I 2025-04-03 06:16:48,342] Trial 28 finished with value: 8.81577947088935 and parameters: {'x': 1.0465979750984822}. Best is trial 15 with value: 5.002727101681786.\n",
      "[I 2025-04-03 06:16:48,346] Trial 29 finished with value: 18.438264023213613 and parameters: {'x': -0.6658237850739108}. Best is trial 15 with value: 5.002727101681786.\n",
      "[I 2025-04-03 06:16:48,350] Trial 30 finished with value: 25.92542935004951 and parameters: {'x': 7.574432134161519}. Best is trial 15 with value: 5.002727101681786.\n",
      "[I 2025-04-03 06:16:48,354] Trial 31 finished with value: 5.286475803834246 and parameters: {'x': 2.464765655217973}. Best is trial 15 with value: 5.002727101681786.\n",
      "[I 2025-04-03 06:16:48,359] Trial 32 finished with value: 5.569387406449906 and parameters: {'x': 2.2454223655249876}. Best is trial 15 with value: 5.002727101681786.\n",
      "[I 2025-04-03 06:16:48,363] Trial 33 finished with value: 9.447809148116924 and parameters: {'x': 5.108982965345364}. Best is trial 15 with value: 5.002727101681786.\n",
      "[I 2025-04-03 06:16:48,367] Trial 34 finished with value: 5.073993635364084 and parameters: {'x': 3.272017711489682}. Best is trial 15 with value: 5.002727101681786.\n",
      "[I 2025-04-03 06:16:48,371] Trial 35 finished with value: 21.726470242300564 and parameters: {'x': -1.089800758264461}. Best is trial 15 with value: 5.002727101681786.\n",
      "[I 2025-04-03 06:16:48,375] Trial 36 finished with value: 11.305117927721437 and parameters: {'x': 0.489000611764026}. Best is trial 15 with value: 5.002727101681786.\n",
      "[I 2025-04-03 06:16:48,380] Trial 37 finished with value: 44.73786319205581 and parameters: {'x': -3.303797521498911}. Best is trial 15 with value: 5.002727101681786.\n",
      "[I 2025-04-03 06:16:48,384] Trial 38 finished with value: 5.149042688206995 and parameters: {'x': 3.386060472215164}. Best is trial 15 with value: 5.002727101681786.\n",
      "[I 2025-04-03 06:16:48,388] Trial 39 finished with value: 8.674912490489039 and parameters: {'x': 4.917006126878325}. Best is trial 15 with value: 5.002727101681786.\n",
      "[I 2025-04-03 06:16:48,392] Trial 40 finished with value: 18.674369502883717 and parameters: {'x': 6.6978871674084}. Best is trial 15 with value: 5.002727101681786.\n",
      "[I 2025-04-03 06:16:48,398] Trial 41 finished with value: 7.320032032730032 and parameters: {'x': 1.4768348636047264}. Best is trial 15 with value: 5.002727101681786.\n",
      "[I 2025-04-03 06:16:48,403] Trial 42 finished with value: 5.103046455087561 and parameters: {'x': 3.321008496908666}. Best is trial 15 with value: 5.002727101681786.\n",
      "[I 2025-04-03 06:16:48,406] Trial 43 finished with value: 5.230653756137055 and parameters: {'x': 3.4802642565682516}. Best is trial 15 with value: 5.002727101681786.\n",
      "[I 2025-04-03 06:16:48,411] Trial 44 finished with value: 5.0895916964264245 and parameters: {'x': 3.2993187204743872}. Best is trial 15 with value: 5.002727101681786.\n",
      "[I 2025-04-03 06:16:48,415] Trial 45 finished with value: 8.059139664533491 and parameters: {'x': 1.2509603593590306}. Best is trial 15 with value: 5.002727101681786.\n",
      "[I 2025-04-03 06:16:48,419] Trial 46 finished with value: 7.148527984718193 and parameters: {'x': 4.465785790870615}. Best is trial 15 with value: 5.002727101681786.\n",
      "[I 2025-04-03 06:16:48,423] Trial 47 finished with value: 13.219586868008605 and parameters: {'x': 5.8669821882963635}. Best is trial 15 with value: 5.002727101681786.\n",
      "[I 2025-04-03 06:16:48,428] Trial 48 finished with value: 5.029431710793281 and parameters: {'x': 3.1715567276246572}. Best is trial 15 with value: 5.002727101681786.\n",
      "[I 2025-04-03 06:16:48,432] Trial 49 finished with value: 7.137316581622189 and parameters: {'x': 1.5380435773860466}. Best is trial 15 with value: 5.002727101681786.\n"
     ]
    },
    {
     "name": "stdout",
     "output_type": "stream",
     "text": [
      "Best x: 3.052221659125173\n",
      "Minimum value: 5.002727101681786\n"
     ]
    }
   ],
   "source": [
    "import optuna #(1) 패키지 임포트\n",
    "import numpy as np\n",
    "\n",
    "# (2) 목적 함수 정의\n",
    "def objective(trial):\n",
    "    x = trial.suggest_float('x', -10, 10)  # (3) 탐색할 범위\n",
    "    y = (x - 3) ** 2 + 5                   # (4) 최소값을 가지는 2차 함수\n",
    "    return y  # (5) 최소화할 값\n",
    "\n",
    "# (6) 최적화 수행\n",
    "study = optuna.create_study(direction=\"minimize\")\n",
    "study.optimize(objective, n_trials=50)\n",
    "\n",
    "# (7) 결과 출력\n",
    "print(\"Best x:\", study.best_params['x'])\n",
    "print(\"Minimum value:\", study.best_value)"
   ]
  },
  {
   "cell_type": "code",
   "execution_count": 2,
   "id": "d7ff5671-b740-4afd-8334-c21ffa1d979f",
   "metadata": {},
   "outputs": [
    {
     "name": "stdout",
     "output_type": "stream",
     "text": [
      "Collecting optuna\n",
      "  Downloading optuna-4.2.1-py3-none-any.whl.metadata (17 kB)\n",
      "Collecting alembic>=1.5.0 (from optuna)\n",
      "  Downloading alembic-1.15.2-py3-none-any.whl.metadata (7.3 kB)\n",
      "Collecting colorlog (from optuna)\n",
      "  Downloading colorlog-6.9.0-py3-none-any.whl.metadata (10 kB)\n",
      "Requirement already satisfied: numpy in c:\\python3.10.3\\lib\\site-packages (from optuna) (1.23.5)\n",
      "Requirement already satisfied: packaging>=20.0 in c:\\python3.10.3\\lib\\site-packages (from optuna) (24.2)\n",
      "Collecting sqlalchemy>=1.4.2 (from optuna)\n",
      "  Downloading sqlalchemy-2.0.40-cp310-cp310-win_amd64.whl.metadata (9.9 kB)\n",
      "Collecting tqdm (from optuna)\n",
      "  Downloading tqdm-4.67.1-py3-none-any.whl.metadata (57 kB)\n",
      "Requirement already satisfied: PyYAML in c:\\python3.10.3\\lib\\site-packages (from optuna) (6.0.2)\n",
      "Collecting Mako (from alembic>=1.5.0->optuna)\n",
      "  Downloading Mako-1.3.9-py3-none-any.whl.metadata (2.9 kB)\n",
      "Requirement already satisfied: typing-extensions>=4.12 in c:\\python3.10.3\\lib\\site-packages (from alembic>=1.5.0->optuna) (4.13.0)\n",
      "Collecting greenlet>=1 (from sqlalchemy>=1.4.2->optuna)\n",
      "  Downloading greenlet-3.1.1-cp310-cp310-win_amd64.whl.metadata (3.9 kB)\n",
      "Requirement already satisfied: colorama in c:\\python3.10.3\\lib\\site-packages (from colorlog->optuna) (0.4.6)\n",
      "Requirement already satisfied: MarkupSafe>=0.9.2 in c:\\python3.10.3\\lib\\site-packages (from Mako->alembic>=1.5.0->optuna) (3.0.2)\n",
      "Downloading optuna-4.2.1-py3-none-any.whl (383 kB)\n",
      "Downloading alembic-1.15.2-py3-none-any.whl (231 kB)\n",
      "Downloading sqlalchemy-2.0.40-cp310-cp310-win_amd64.whl (2.1 MB)\n",
      "   ---------------------------------------- 0.0/2.1 MB ? eta -:--:--\n",
      "   --------- ------------------------------ 0.5/2.1 MB 2.8 MB/s eta 0:00:01\n",
      "   -------------- ------------------------- 0.8/2.1 MB 1.7 MB/s eta 0:00:01\n",
      "   ------------------------ --------------- 1.3/2.1 MB 2.1 MB/s eta 0:00:01\n",
      "   ---------------------------------------  2.1/2.1 MB 2.4 MB/s eta 0:00:01\n",
      "   ---------------------------------------- 2.1/2.1 MB 2.4 MB/s eta 0:00:00\n",
      "Downloading colorlog-6.9.0-py3-none-any.whl (11 kB)\n",
      "Downloading tqdm-4.67.1-py3-none-any.whl (78 kB)\n",
      "Downloading greenlet-3.1.1-cp310-cp310-win_amd64.whl (298 kB)\n",
      "Downloading Mako-1.3.9-py3-none-any.whl (78 kB)\n",
      "Installing collected packages: tqdm, Mako, greenlet, colorlog, sqlalchemy, alembic, optuna\n",
      "Successfully installed Mako-1.3.9 alembic-1.15.2 colorlog-6.9.0 greenlet-3.1.1 optuna-4.2.1 sqlalchemy-2.0.40 tqdm-4.67.1\n"
     ]
    }
   ],
   "source": [
    "!pip install optuna"
   ]
  },
  {
   "cell_type": "code",
   "execution_count": null,
   "id": "a90caecc-23f7-4ae1-b1b5-f9dedd188e52",
   "metadata": {},
   "outputs": [],
   "source": []
  }
 ],
 "metadata": {
  "kernelspec": {
   "display_name": "Python 3 (ipykernel)",
   "language": "python",
   "name": "python3"
  },
  "language_info": {
   "codemirror_mode": {
    "name": "ipython",
    "version": 3
   },
   "file_extension": ".py",
   "mimetype": "text/x-python",
   "name": "python",
   "nbconvert_exporter": "python",
   "pygments_lexer": "ipython3",
   "version": "3.10.3"
  }
 },
 "nbformat": 4,
 "nbformat_minor": 5
}
