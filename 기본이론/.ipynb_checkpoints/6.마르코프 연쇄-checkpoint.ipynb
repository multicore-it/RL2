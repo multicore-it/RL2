{
 "cells": [
  {
   "cell_type": "code",
   "execution_count": 1,
   "id": "81326a18-592d-4e5a-b3a8-bef4db35dd31",
   "metadata": {},
   "outputs": [
    {
     "name": "stdout",
     "output_type": "stream",
     "text": [
      "7일 후까지의 날씨 예측: ['맑음', '맑음', '맑음', '강우', '맑음', '맑음', '맑음']\n"
     ]
    }
   ],
   "source": [
    "import numpy as np\n",
    "import random\n",
    "\n",
    "#(1) 마르코프 연쇄 기반 날씨 예측 시뮬레이션\n",
    "def generate_weather_forecast(days):\n",
    "    #(2) 가능한 상태 정의: 맑음과 강우\n",
    "    states = [\"맑음\", \"강우\"]\n",
    "\n",
    "    #(3) 상태 전이 확률 정의\n",
    "    transition_matrix = {\n",
    "        \"맑음\": {\"맑음\": 0.6, \"강우\": 0.4},\n",
    "        \"강우\": {\"맑음\": 0.7, \"강우\": 0.3}\n",
    "    }\n",
    "    \n",
    "    #(4) 초기 상태를 무작위로 선택\n",
    "    current_state = random.choice(states)\n",
    "    forecast = [current_state]\n",
    "    \n",
    "    for _ in range(days - 1):\n",
    "        #(5) 상태 전이 반복 수행\n",
    "        next_state = np.random.choice(\n",
    "            states, p=[transition_matrix[current_state][\"맑음\"], \n",
    "                      transition_matrix[current_state][\"강우\"]]\n",
    "        )\n",
    "        forecast.append(next_state)\n",
    "        current_state = next_state\n",
    "    \n",
    "    return forecast\n",
    "\n",
    "#(6) 최종 예측 결과 출력\n",
    "weather_forecast = generate_weather_forecast(7)\n",
    "print(\"7일 후까지의 날씨 예측:\", weather_forecast)"
   ]
  },
  {
   "cell_type": "code",
   "execution_count": null,
   "id": "6e4f41e5-c372-499c-8e00-5273e6b1045b",
   "metadata": {},
   "outputs": [],
   "source": []
  }
 ],
 "metadata": {
  "kernelspec": {
   "display_name": "Python 3 (ipykernel)",
   "language": "python",
   "name": "python3"
  },
  "language_info": {
   "codemirror_mode": {
    "name": "ipython",
    "version": 3
   },
   "file_extension": ".py",
   "mimetype": "text/x-python",
   "name": "python",
   "nbconvert_exporter": "python",
   "pygments_lexer": "ipython3",
   "version": "3.10.3"
  }
 },
 "nbformat": 4,
 "nbformat_minor": 5
}
