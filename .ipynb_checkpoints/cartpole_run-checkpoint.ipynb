{
 "cells": [
  {
   "cell_type": "code",
   "execution_count": 7,
   "metadata": {},
   "outputs": [
    {
     "name": "stdout",
     "output_type": "stream",
     "text": [
      "*start test*\n",
      "episode:0, count:414, reward tot:414.0, reward avg:414.00\n",
      "episode:1, count:373, reward tot:373.0, reward avg:393.50\n",
      "episode:2, count:339, reward tot:339.0, reward avg:375.33\n",
      "episode:3, count:352, reward tot:352.0, reward avg:369.50\n",
      "episode:4, count:410, reward tot:410.0, reward avg:377.60\n",
      "episode:5, count:500, reward tot:500.0, reward avg:398.00\n",
      "episode:6, count:470, reward tot:470.0, reward avg:408.29\n",
      "episode:7, count:305, reward tot:305.0, reward avg:395.38\n",
      "episode:8, count:316, reward tot:316.0, reward avg:386.56\n",
      "episode:9, count:317, reward tot:317.0, reward avg:379.60\n",
      "*end test*\n"
     ]
    }
   ],
   "source": [
    "import tensorflow as tf\n",
    "import numpy as np\n",
    "import gym\n",
    "from stable_baselines3 import PPO\n",
    "\n",
    "# 저장된 모델 로드 (.keras or .h5 형태로 저장된 Keras 모델 사용)\n",
    "# model = tf.keras.models.load_model('./model/dqn.keras')\n",
    "# model = tf.keras.models.load_model('./model/reinforce.keras')\n",
    "# model = tf.keras.models.load_model('./model/a2c_actor.keras')\n",
    "# model = tf.keras.models.load_model('./model/ppo_actor.keras')\n",
    "model = PPO.load('./model/ppo_cartpole_stable')\n",
    "\n",
    "# 환경 생성 시 render 모드 명시\n",
    "env = gym.make('CartPole-v1', render_mode='human')\n",
    "input_size = env.observation_space.shape[0]\n",
    "\n",
    "reward_list = []\n",
    "print(\"*start test*\")\n",
    "for episode in range(10):\n",
    "    state, _ = env.reset()  # 최신 gym은 두 값을 반환\n",
    "    reward_tot = 0\n",
    "    done = False\n",
    "    count = 0\n",
    "\n",
    "    while not done:\n",
    "        env.render()\n",
    "        count += 1\n",
    "\n",
    "        state_t = np.reshape(state, [1, input_size]).astype(np.float32)\n",
    "\n",
    "        # Q = model.predict(state_t, verbose=0)[0]\n",
    "        # action = np.argmax(Q)\n",
    "        #stable baselines\n",
    "        action, _ = model.predict(state)\n",
    "\n",
    "        state_next, reward, terminated, truncated, _ = env.step(action)\n",
    "        done = terminated or truncated\n",
    "\n",
    "        reward_tot += reward\n",
    "        state = state_next\n",
    "\n",
    "    reward_list.append(reward_tot)\n",
    "    print(f\"episode:{episode}, count:{count}, reward tot:{reward_tot}, reward avg:{np.mean(reward_list):.2f}\")\n",
    "print(\"*end test*\")\n",
    "env.close()\n"
   ]
  },
  {
   "cell_type": "code",
   "execution_count": null,
   "metadata": {},
   "outputs": [],
   "source": []
  }
 ],
 "metadata": {
  "kernelspec": {
   "display_name": "Python 3 (ipykernel)",
   "language": "python",
   "name": "python3"
  },
  "language_info": {
   "codemirror_mode": {
    "name": "ipython",
    "version": 3
   },
   "file_extension": ".py",
   "mimetype": "text/x-python",
   "name": "python",
   "nbconvert_exporter": "python",
   "pygments_lexer": "ipython3",
   "version": "3.10.3"
  }
 },
 "nbformat": 4,
 "nbformat_minor": 4
}
