{
 "cells": [
  {
   "cell_type": "code",
   "execution_count": 1,
   "id": "8b627a91-304a-446c-a382-e9d1f6b802aa",
   "metadata": {},
   "outputs": [
    {
     "name": "stdout",
     "output_type": "stream",
     "text": [
      "상태 가치 함수 (V):\n",
      "V(S) = 0.84\n",
      "V(R1) = 0.92\n",
      "V(R2) = 0.94\n",
      "V(R3) = 1.00\n",
      "V(F) = 0.00\n"
     ]
    }
   ],
   "source": [
    "import numpy as np\n",
    "import random\n",
    "\n",
    "# (1) 상태 정의 및 인덱스 매핑\n",
    "states = ['S', 'R1', 'R2', 'R3', 'F']\n",
    "state_to_index = {\n",
    "    'S': 0,\n",
    "    'R1': 1,\n",
    "    'R2': 2,\n",
    "    'R3': 3,\n",
    "    'F': 4\n",
    "}\n",
    "\n",
    "V = np.zeros(len(states))  # 상태 가치 초기화\n",
    "\n",
    "# (2) 가능한 모든 경로 정의 (상태쌍과 보상 포함)\n",
    "paths = [\n",
    "    [('S', 'R1', 0), ('R1', 'R3', 0), ('R3', 'F', 1)],       # 경로 1\n",
    "    [('S', 'R1', 0), ('R1', 'F', 1)],                        # 경로 2\n",
    "    [('S', 'R2', 0), ('R2', 'R3', 0), ('R3', 'F', 1)],       # 경로 3\n",
    "    [('S', 'R2', 0), ('R2', 'F', 1)],                        # 경로 4\n",
    "    [('S', 'R1', 0), ('R1', 'R2', 0), ('R2', 'R3', 0), ('R3', 'F', 1)]  # 경로 5 (신규)\n",
    "]\n",
    "\n",
    "# (3) 학습 파라미터\n",
    "alpha = 0.1\n",
    "gamma = 0.9\n",
    "episodes = 500\n",
    "\n",
    "# (4) TD(0) 학습 루프\n",
    "for ep in range(episodes):\n",
    "    trajectory = random.choice(paths)  # (5) 무작위 경로 선택\n",
    "\n",
    "    for (s, s_next, reward) in trajectory:\n",
    "        i = state_to_index[s]\n",
    "        j = state_to_index[s_next]\n",
    "        V[i] += alpha * (reward + gamma * V[j] - V[i])  # (6) TD 업데이트\n",
    "\n",
    "# (7) 결과 출력\n",
    "print(\"상태 가치 함수 (V):\")\n",
    "for s in states:\n",
    "    print(f\"V({s}) = {V[state_to_index[s]]:.2f}\")\n"
   ]
  },
  {
   "cell_type": "code",
   "execution_count": null,
   "id": "b9fddb99-cc57-4996-bf20-8a7fc05a4542",
   "metadata": {},
   "outputs": [],
   "source": []
  },
  {
   "cell_type": "code",
   "execution_count": null,
   "id": "c62fb48d-4241-4335-8d53-b6b8ab2f5319",
   "metadata": {},
   "outputs": [],
   "source": []
  }
 ],
 "metadata": {
  "kernelspec": {
   "display_name": "Python 3 (ipykernel)",
   "language": "python",
   "name": "python3"
  },
  "language_info": {
   "codemirror_mode": {
    "name": "ipython",
    "version": 3
   },
   "file_extension": ".py",
   "mimetype": "text/x-python",
   "name": "python",
   "nbconvert_exporter": "python",
   "pygments_lexer": "ipython3",
   "version": "3.10.3"
  }
 },
 "nbformat": 4,
 "nbformat_minor": 5
}
