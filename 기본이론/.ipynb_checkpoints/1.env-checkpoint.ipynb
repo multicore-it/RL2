{
 "cells": [
  {
   "cell_type": "code",
   "execution_count": 1,
   "id": "51f9de50-3df1-4b75-b137-8b4e469c30ea",
   "metadata": {},
   "outputs": [
    {
     "name": "stdout",
     "output_type": "stream",
     "text": [
      "2.12.0\n"
     ]
    }
   ],
   "source": [
    "import tensorflow as tf\n",
    "import gym\n",
    "import pygame\n",
    "import tensorflow\n",
    "import numpy as np\n",
    "import matplotlib\n",
    "import stable_baselines3\n",
    "import shimmy\n",
    "import optuna\n",
    "import yfinance\n",
    "print(tf.__version__)"
   ]
  },
  {
   "cell_type": "code",
   "execution_count": null,
   "id": "40ee4803-4451-43a4-8ec0-3eccba06f722",
   "metadata": {},
   "outputs": [],
   "source": []
  }
 ],
 "metadata": {
  "kernelspec": {
   "display_name": "Python 3 (ipykernel)",
   "language": "python",
   "name": "python3"
  },
  "language_info": {
   "codemirror_mode": {
    "name": "ipython",
    "version": 3
   },
   "file_extension": ".py",
   "mimetype": "text/x-python",
   "name": "python",
   "nbconvert_exporter": "python",
   "pygments_lexer": "ipython3",
   "version": "3.10.3"
  }
 },
 "nbformat": 4,
 "nbformat_minor": 5
}
