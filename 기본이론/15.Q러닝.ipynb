{
 "cells": [
  {
   "cell_type": "code",
   "execution_count": 1,
   "id": "1a978a05-2ff7-47c2-8b22-db86731d5c4c",
   "metadata": {},
   "outputs": [
    {
     "name": "stdout",
     "output_type": "stream",
     "text": [
      "행동 가치 함수 Q(s, a):\n",
      "Q(S, R1) = 0.90\n",
      "Q(S, R2) = 0.63\n",
      "Q(R1, R2) = 0.53\n",
      "Q(R1, R3) = 0.77\n",
      "Q(R1, F) = 1.00\n",
      "Q(R2, R3) = 0.87\n",
      "Q(R2, F) = 0.19\n",
      "Q(R3, F) = 1.00\n"
     ]
    }
   ],
   "source": [
    "import numpy as np\n",
    "import random\n",
    "\n",
    "# (1) 상태 및 행동 정의\n",
    "states = ['S', 'R1', 'R2', 'R3', 'F']\n",
    "state_to_index = {\n",
    "    'S': 0,\n",
    "    'R1': 1,\n",
    "    'R2': 2,\n",
    "    'R3': 3,\n",
    "    'F': 4\n",
    "}\n",
    "\n",
    "# (2) 상태 전이 및 보상 정의\n",
    "transitions = {\n",
    "    'S': [('R1', 0), ('R2', 0)],\n",
    "    'R1': [('R2', 0), ('R3', 0), ('F', 1)],\n",
    "    'R2': [('R3', 0), ('F', 1)],\n",
    "    'R3': [('F', 1)],\n",
    "    'F': []\n",
    "}\n",
    "\n",
    "# (3) Q 테이블 초기화\n",
    "Q = {}\n",
    "for s in states:\n",
    "    Q[s] = {}\n",
    "    for (s_next, _) in transitions[s]:\n",
    "        Q[s][s_next] = 0.0\n",
    "\n",
    "# (4) 학습 파라미터\n",
    "alpha = 0.1\n",
    "gamma = 0.9\n",
    "epsilon = 0.1\n",
    "episodes = 500\n",
    "\n",
    "# (5) Q-Learning 학습 루프\n",
    "for ep in range(episodes):\n",
    "    state = 'S'\n",
    "\n",
    "    while state != 'F':\n",
    "        # (6) ε-greedy 방식으로 행동 선택\n",
    "        if random.random() < epsilon:\n",
    "            action = random.choice(list(Q[state].keys()))\n",
    "        else:\n",
    "            action = max(Q[state], key=Q[state].get)\n",
    "\n",
    "        # (7) 다음 상태 및 보상 확인\n",
    "        next_state = action\n",
    "        reward = 0\n",
    "        for (s_next, r) in transitions[state]:\n",
    "            if s_next == next_state:\n",
    "                reward = r\n",
    "                break\n",
    "\n",
    "        # (8) Q-Learning 업데이트\n",
    "        if next_state != 'F':\n",
    "            max_q_next = max(Q[next_state].values())\n",
    "            td_target = reward + gamma * max_q_next\n",
    "        else:\n",
    "            td_target = reward\n",
    "\n",
    "        Q[state][action] += alpha * (td_target - Q[state][action])\n",
    "\n",
    "        # (9) 다음 상태로 이동\n",
    "        state = next_state\n",
    "\n",
    "# (10) 결과 출력\n",
    "print(\"행동 가치 함수 Q(s, a):\")\n",
    "for s in Q:\n",
    "    for a in Q[s]:\n",
    "        print(f\"Q({s}, {a}) = {Q[s][a]:.2f}\")\n"
   ]
  },
  {
   "cell_type": "code",
   "execution_count": null,
   "id": "b4c9ea39-f111-4a9b-a90d-9072ad9fd981",
   "metadata": {},
   "outputs": [],
   "source": []
  }
 ],
 "metadata": {
  "kernelspec": {
   "display_name": "Python 3 (ipykernel)",
   "language": "python",
   "name": "python3"
  },
  "language_info": {
   "codemirror_mode": {
    "name": "ipython",
    "version": 3
   },
   "file_extension": ".py",
   "mimetype": "text/x-python",
   "name": "python",
   "nbconvert_exporter": "python",
   "pygments_lexer": "ipython3",
   "version": "3.10.3"
  }
 },
 "nbformat": 4,
 "nbformat_minor": 5
}
